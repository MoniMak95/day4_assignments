{
 "cells": [
  {
   "cell_type": "markdown",
   "id": "45925f0e",
   "metadata": {},
   "source": [
    "##To multiply and add two numbers using function"
   ]
  },
  {
   "cell_type": "code",
   "execution_count": 2,
   "id": "42490e2e",
   "metadata": {},
   "outputs": [
    {
     "name": "stdout",
     "output_type": "stream",
     "text": [
      "input the number one: 12\n",
      "input the number one: 21\n",
      "The product is 252\n"
     ]
    }
   ],
   "source": [
    "def mul_num(a,b):\n",
    "    multiply=a*b;\n",
    "    return multiply;\n",
    "num1=int(input(\"input the number one: \"))\n",
    "num2=int(input(\"input the number one: \"))\n",
    "print(\"The product is\",mul_num(num1,num2))"
   ]
  },
  {
   "cell_type": "code",
   "execution_count": 3,
   "id": "0c8bc582",
   "metadata": {},
   "outputs": [
    {
     "name": "stdout",
     "output_type": "stream",
     "text": [
      "input the number one: 25\n",
      "input the number one: 42\n",
      "The product is 67\n"
     ]
    }
   ],
   "source": [
    "def add_num(a,b):\n",
    "    sum=a+b;\n",
    "    return sum; \n",
    "num1=int(input(\"input the number one: \"))\n",
    "num2=int(input(\"input the number one: \"))\n",
    "print(\"The product is\",add_num(num1,num2))\n",
    "\n"
   ]
  },
  {
   "cell_type": "code",
   "execution_count": 4,
   "id": "9605cfef",
   "metadata": {},
   "outputs": [
    {
     "data": {
      "text/plain": [
       "15"
      ]
     },
     "execution_count": 4,
     "metadata": {},
     "output_type": "execute_result"
    }
   ],
   "source": [
    "def add_num(num1,num2):\n",
    "    num3=num1+num2\n",
    "    return num3\n",
    "add_num(5,10)"
   ]
  },
  {
   "cell_type": "code",
   "execution_count": 5,
   "id": "2c4a98ee",
   "metadata": {},
   "outputs": [
    {
     "data": {
      "text/plain": [
       "10"
      ]
     },
     "execution_count": 5,
     "metadata": {},
     "output_type": "execute_result"
    }
   ],
   "source": [
    "def mul_num(a,b):\n",
    "    c=a*b\n",
    "    return c\n",
    "mul_num(2,5)\n"
   ]
  },
  {
   "cell_type": "code",
   "execution_count": null,
   "id": "92d2fc17",
   "metadata": {},
   "outputs": [],
   "source": []
  }
 ],
 "metadata": {
  "kernelspec": {
   "display_name": "Python 3",
   "language": "python",
   "name": "python3"
  },
  "language_info": {
   "codemirror_mode": {
    "name": "ipython",
    "version": 3
   },
   "file_extension": ".py",
   "mimetype": "text/x-python",
   "name": "python",
   "nbconvert_exporter": "python",
   "pygments_lexer": "ipython3",
   "version": "3.8.8"
  }
 },
 "nbformat": 4,
 "nbformat_minor": 5
}
